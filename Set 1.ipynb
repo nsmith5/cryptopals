{
 "cells": [
  {
   "cell_type": "markdown",
   "id": "bdeb9224",
   "metadata": {},
   "source": [
    "## Set 1\n",
    "\n",
    "### Challenge 1\n",
    "\n",
    "Convert hexadecimal to base64 encoding"
   ]
  },
  {
   "cell_type": "code",
   "execution_count": 3,
   "id": "d36388de",
   "metadata": {},
   "outputs": [],
   "source": [
    "import base64\n",
    "\n",
    "\n",
    "def hex2base64(s):\n",
    "    return base64.b64encode(bytes.fromhex(s)).decode('utf-8')\n",
    "\n",
    "\n",
    "input = '49276d206b696c6c696e6720796f757220627261696e206c696b65206120706f69736f6e6f7573206d757368726f6f6d'\n",
    "wanted = 'SSdtIGtpbGxpbmcgeW91ciBicmFpbiBsaWtlIGEgcG9pc29ub3VzIG11c2hyb29t'\n",
    "\n",
    "assert hex2base64(input) == wanted"
   ]
  },
  {
   "cell_type": "markdown",
   "id": "b1bd8f01",
   "metadata": {},
   "source": [
    "### Challenge 2\n",
    "\n",
    "Fixed XOR encryption. Given plaintext and key of the same length, XOR the plaintext with the key to get the ciphertext. XOR with the key once again to recover the plaintext"
   ]
  },
  {
   "cell_type": "code",
   "execution_count": 6,
   "id": "d4f5aa63",
   "metadata": {},
   "outputs": [],
   "source": [
    "def fixed_xor(plain, key):\n",
    "    assert len(plain) == len(key)\n",
    "    \n",
    "    output = bytearray(len(plain))\n",
    "    for i in range(len(plain)):\n",
    "        output[i] = plain[i] ^ key[i]\n",
    "    \n",
    "    return output"
   ]
  },
  {
   "cell_type": "code",
   "execution_count": 7,
   "id": "afdc1661",
   "metadata": {},
   "outputs": [],
   "source": [
    "input = '1c0111001f010100061a024b53535009181c'\n",
    "key = '686974207468652062756c6c277320657965'\n",
    "wanted = '746865206b696420646f6e277420706c6179'\n",
    "\n",
    "\n",
    "assert fixed_xor(bytes.fromhex(input), bytes.fromhex(key)).hex() == wanted"
   ]
  },
  {
   "cell_type": "markdown",
   "id": "7068f71f",
   "metadata": {},
   "source": [
    "### Challenge 3\n",
    "\n",
    "Decrypt single byte XOR encryption. Given plaintext and a single byte key, XOR each byte in the plaintext with the key to get the ciphertext. The challenge is to decrypt this ciphertext"
   ]
  },
  {
   "cell_type": "code",
   "execution_count": 8,
   "id": "c90debd7",
   "metadata": {},
   "outputs": [],
   "source": [
    "def onebyte_xor(input, key):\n",
    "    output = bytearray(len(input))\n",
    "    for i in range(len(input)):\n",
    "        output[i] = key ^ input[i]\n",
    "    return output"
   ]
  },
  {
   "cell_type": "markdown",
   "id": "8e8bef60",
   "metadata": {},
   "source": [
    "To start we make two utility functions:\n",
    "- `distribution` reads an array of bytes and computes the distribution (probability) of each byte\n",
    "- `score` is a metric of similarity between two byte distributions\n",
    "\n",
    "We then approximate the distribution of english ascii text by reading the byte distribution from Moby Dick."
   ]
  },
  {
   "cell_type": "code",
   "execution_count": 10,
   "id": "4441f66b",
   "metadata": {},
   "outputs": [],
   "source": [
    "def distribution(buf):\n",
    "    \"Measure the distribution of bytes in a buffer\"\n",
    "    dist = [0 for x in range(256)]\n",
    "    for b in buf:\n",
    "        dist[int(b)] += 1\n",
    "    \n",
    "    return [x / len(buf) for x in dist]\n",
    "\n",
    "\n",
    "def score(dist1, dist2):\n",
    "    return sum(x * y for (x,y) in zip(dist1, dist2))\n",
    "\n",
    "\n",
    "with open(\"data/moby-dick.txt\", \"rb+\") as f:\n",
    "    moby_dick = f.read()\n",
    "\n",
    "english = distribution(moby_dick)"
   ]
  },
  {
   "cell_type": "markdown",
   "id": "10fee277",
   "metadata": {},
   "source": [
    "Next, we create a function to find the best single-byte xor key from single-byte xor ciphertext. This just bruteforces the problem by trying each of the 256 keys and measures how similar they are to the Moby Dick distribution"
   ]
  },
  {
   "cell_type": "code",
   "execution_count": 13,
   "id": "17d819f9",
   "metadata": {},
   "outputs": [],
   "source": [
    "def bestkey(buf):\n",
    "    scores = 256 * [0]\n",
    "    for i in range(256):\n",
    "        dist = distribution(onebyte_xor(buf, i))\n",
    "        scores[i] = score(dist, english)\n",
    "\n",
    "    winning_score = max(scores)\n",
    "    return scores.index(winning_score)"
   ]
  },
  {
   "cell_type": "markdown",
   "id": "f35d5826",
   "metadata": {},
   "source": [
    "Finally, we decrypt the given ciphertext"
   ]
  },
  {
   "cell_type": "code",
   "execution_count": 14,
   "id": "28e46f73",
   "metadata": {},
   "outputs": [
    {
     "data": {
      "text/plain": [
       "\"Cooking MC's like a pound of bacon\""
      ]
     },
     "execution_count": 14,
     "metadata": {},
     "output_type": "execute_result"
    }
   ],
   "source": [
    "input = bytes.fromhex(\"1b37373331363f78151b7f2b783431333d78397828372d363c78373e783a393b3736\")\n",
    "\n",
    "key = bestkey(input)\n",
    "onebyte_xor(input, key).decode('utf-8')"
   ]
  },
  {
   "cell_type": "markdown",
   "id": "ce04ad1e",
   "metadata": {},
   "source": [
    "### Challenge 4\n",
    "\n",
    "Detect one-byte xor ciphertext. One approach would be to try decrypting as above and look at how \"good\" the best key returned is. This is essentially what the challenge hints for you to do. Instead, I've taken a different approach: one-byte XOR is equivalent to a unitary change of basis in our byte distributions. The entropy is invariant under unitart change of basis. Lets just compute the entropy of all these texts and look for a low-entropy candidate"
   ]
  },
  {
   "cell_type": "code",
   "execution_count": 16,
   "id": "27a85ddf",
   "metadata": {},
   "outputs": [],
   "source": [
    "f = open(\"data/challenge4.txt\")\n",
    "input = list(map(lambda x: bytes.fromhex(str.strip(x)), f))\n",
    "f.close()"
   ]
  },
  {
   "cell_type": "code",
   "execution_count": 17,
   "id": "33ba347a",
   "metadata": {},
   "outputs": [
    {
     "data": {
      "text/plain": [
       "[<matplotlib.lines.Line2D at 0x7f9d30744ca0>]"
      ]
     },
     "execution_count": 17,
     "metadata": {},
     "output_type": "execute_result"
    },
    {
     "data": {
      "image/png": "[encoded data removed]",
      "text/plain": [
       "<Figure size 432x288 with 1 Axes>"
      ]
     },
     "metadata": {
      "needs_background": "light"
     },
     "output_type": "display_data"
    }
   ],
   "source": [
    "import math\n",
    "from matplotlib import pyplot\n",
    "\n",
    "\n",
    "def entropy(buf):\n",
    "    dist = distribution(buf)\n",
    "    return -sum(0 if p == 0 else p * math.log2(p) for p in dist)\n",
    "\n",
    "\n",
    "# Plot entropy for each potential ciphertext and look for a\n",
    "# low entropy candidate\n",
    "pyplot.plot(list(map(entropy, input)))"
   ]
  },
  {
   "cell_type": "markdown",
   "id": "afffa8a4",
   "metadata": {},
   "source": [
    "Yup, there is a clear candidate that is lower entropy than the others (which are presumably white noise or something high entropy). Lets find that low entropy candidate"
   ]
  },
  {
   "cell_type": "code",
   "execution_count": 19,
   "id": "981d0ea1",
   "metadata": {},
   "outputs": [
    {
     "data": {
      "text/plain": [
       "b'{ZB\\x15A]TA\\x15A]P\\x15ETGAL\\x15\\\\F\\x15_@XE\\\\[R?'"
      ]
     },
     "execution_count": 19,
     "metadata": {},
     "output_type": "execute_result"
    }
   ],
   "source": [
    "entropies = list(map(entropy, input))\n",
    "candidate = input[entropies.index(min(entropies))]\n",
    "candidate"
   ]
  },
  {
   "cell_type": "markdown",
   "id": "0cc386dc",
   "metadata": {},
   "source": [
    "And decrypt"
   ]
  },
  {
   "cell_type": "code",
   "execution_count": 21,
   "id": "62a8c75d",
   "metadata": {},
   "outputs": [
    {
     "data": {
      "text/plain": [
       "'Now that the party is jumping\\n'"
      ]
     },
     "execution_count": 21,
     "metadata": {},
     "output_type": "execute_result"
    }
   ],
   "source": [
    "# Decrypt candidate\n",
    "winner = bestkey(candidate)\n",
    "\n",
    "onebyte_xor(candidate, winner).decode(\"utf-8\")"
   ]
  },
  {
   "cell_type": "markdown",
   "id": "436a4912",
   "metadata": {},
   "source": [
    "### Challenge 5\n",
    "\n",
    "Repeated key xor. This cipher is between the one-byte xor and fixed-xor:\n",
    "- Choose a key of length `N`\n",
    "- XOR the first `N` bytes of plaintext with the key to create the first `N` bytes of ciphertext\n",
    "- Shift the key along the plaintext to the next `N` bytes and repeat"
   ]
  },
  {
   "cell_type": "code",
   "execution_count": 22,
   "id": "e2074067",
   "metadata": {},
   "outputs": [],
   "source": [
    "def repeating_key_xor(input, key):\n",
    "    output = bytearray(len(input))\n",
    "    for i, val in enumerate(input):\n",
    "        output[i] = key[i % len(key)] ^ input[i]\n",
    "    return output"
   ]
  },
  {
   "cell_type": "code",
   "execution_count": 24,
   "id": "0fcca528",
   "metadata": {},
   "outputs": [],
   "source": [
    "input = b\"\"\"Burning 'em, if you ain't quick and nimble\n",
    "I go crazy when I hear a cymbal\"\"\"\n",
    "key = b'ICE'\n",
    "wanted = '0b3637272a2b2e63622c2e69692a23693a2a3c6324202d623d63343c2a26226324272765272a282b2f20430a652e2c652a3124333a653e2b2027630c692b20283165286326302e27282f'\n",
    "\n",
    "assert repeating_key_xor(input, key).hex() == wanted"
   ]
  },
  {
   "cell_type": "markdown",
   "id": "d2765064",
   "metadata": {},
   "source": [
    "### Challenge 6\n",
    "\n",
    "Decrypt repeating key xor. The challenge here points out that Hamming distance will be important here. Lets implement Hamming distance between two bytes:"
   ]
  },
  {
   "cell_type": "code",
   "execution_count": 34,
   "id": "033f3ac5",
   "metadata": {},
   "outputs": [],
   "source": [
    "def hamming(x, y):\n",
    "    # Counting the ones in x ^ y results in the number of differing\n",
    "    # bits. This is the Hamming distance\n",
    "    diff = x ^ y\n",
    "    count = 0\n",
    "    while diff != 0x00:\n",
    "        count += diff & 0x01\n",
    "        diff = diff >> 0x01\n",
    "    return count\n",
    "\n",
    "\n",
    "assert hamming(0xff, 0x00) == 8\n",
    "assert hamming(0xff, 0xff) == 0\n",
    "assert hamming(0x00, 0x00) == 0\n",
    "assert hamming(0xaf, 0xaf) == 0"
   ]
  },
  {
   "cell_type": "markdown",
   "id": "e5c77a9a",
   "metadata": {},
   "source": [
    "Lets know think about the Hamming distance of ASCII characters relative to one another and how they change under XOR with a byte."
   ]
  },
  {
   "cell_type": "code",
   "execution_count": 39,
   "id": "a1968df0",
   "metadata": {},
   "outputs": [
    {
     "data": {
      "text/plain": [
       "<matplotlib.image.AxesImage at 0x7f9d2e5c9820>"
      ]
     },
     "execution_count": 39,
     "metadata": {},
     "output_type": "execute_result"
    },
    {
     "data": {
      "image/png": "[encoded data removed]",
      "text/plain": [
       "<Figure size 288x288 with 1 Axes>"
      ]
     },
     "metadata": {
      "needs_background": "light"
     },
     "output_type": "display_data"
    }
   ],
   "source": [
    "import numpy as np\n",
    "\n",
    "ascii_hamming = np.zeros((256,256))\n",
    "for i in range(256):\n",
    "    for j in range(256):\n",
    "        ascii_hamming[i, j] = hamming(i, j)\n",
    "\n",
    "\n",
    "pyplot.matshow(ascii_hamming)"
   ]
  },
  {
   "cell_type": "markdown",
   "id": "41728d28",
   "metadata": {},
   "source": [
    "The ASCII letters are roughly 60 - 120. Looks like the Hamming distance between these bytes is quite small. Lets see how the Hamming distance changes under single byte XOR. We'll use `0xa4` for example."
   ]
  },
  {
   "cell_type": "code",
   "execution_count": 41,
   "id": "40c14ad6",
   "metadata": {},
   "outputs": [
    {
     "data": {
      "text/plain": [
       "<matplotlib.image.AxesImage at 0x7f9d2e4a3d00>"
      ]
     },
     "execution_count": 41,
     "metadata": {},
     "output_type": "execute_result"
    },
    {
     "data": {
      "image/png": "[encoded data removed]",
      "text/plain": [
       "<Figure size 288x288 with 1 Axes>"
      ]
     },
     "metadata": {
      "needs_background": "light"
     },
     "output_type": "display_data"
    }
   ],
   "source": [
    "key = 0xa4\n",
    "\n",
    "ascii_encrypted_hamming = np.zeros((256,256))\n",
    "for i in range(256):\n",
    "    for j in range(256):\n",
    "        ascii_encrypted_hamming[i, j] = hamming(i ^ key, j ^ key)\n",
    "\n",
    "\n",
    "pyplot.matshow(ascii_encrypted_hamming)"
   ]
  },
  {
   "cell_type": "markdown",
   "id": "ea5c3514",
   "metadata": {},
   "source": [
    "Surprise surprise, the Hamming distance is invariant under XOR. Or perhaps not so surprising as the XOR flips the same bits in each both bytes. What this means for repeated key XOR encryption is that the bytes one key length away from one another will be close together in Hamming space and we can use this to detect the key length.\n",
    "\n",
    "Lets create a function that computes the average hamming distance between two blocks: `block_hamming`"
   ]
  },
  {
   "cell_type": "code",
   "execution_count": 43,
   "id": "05d4ee9a",
   "metadata": {},
   "outputs": [],
   "source": [
    "def block_hamming(x, y):\n",
    "    assert len(x) == len(y)\n",
    "    return sum(hamming(x[i], y[i]) for i in range(len(x))) / len(x)\n",
    "\n",
    "\n",
    "\n",
    "assert block_hamming(bytes.fromhex('ffff'), bytes.fromhex('0000')) == 8\n",
    "assert block_hamming(bytes.fromhex('ff'), bytes.fromhex('00')) == 8"
   ]
  },
  {
   "cell_type": "markdown",
   "id": "0196e44a",
   "metadata": {},
   "source": [
    "Alright, now lets load up the data and see if we can figure out the key length with this block hamming function"
   ]
  },
  {
   "cell_type": "code",
   "execution_count": 48,
   "id": "c01137e0",
   "metadata": {},
   "outputs": [],
   "source": [
    "with open(\"data/challenge6.txt\") as f:\n",
    "    input = base64.b64decode(\"\".join(map(str.strip, f)))"
   ]
  },
  {
   "cell_type": "code",
   "execution_count": 85,
   "id": "392222ab",
   "metadata": {},
   "outputs": [
    {
     "data": {
      "image/png": "[encoded data removed]",
      "text/plain": [
       "<Figure size 432x288 with 1 Axes>"
      ]
     },
     "metadata": {
      "needs_background": "light"
     },
     "output_type": "display_data"
    }
   ],
   "source": [
    "lengths = list(range(2, 40))\n",
    "scores = list(0 for i in lengths)\n",
    "\n",
    "for index, length in enumerate(lengths):\n",
    "        scores[index] = block_hamming(input[:length], input[length:(2*length)])\n",
    "\n",
    "pyplot.plot(lengths, scores)\n",
    "pyplot.grid()"
   ]
  },
  {
   "cell_type": "markdown",
   "id": "e687ee6e",
   "metadata": {},
   "source": [
    "Sweet. Key size of 5 looks like a good starting point. Lets regroup all data into these windows and crack the key one character at a time:"
   ]
  },
  {
   "cell_type": "code",
   "execution_count": 113,
   "id": "8a7b788b",
   "metadata": {},
   "outputs": [
    {
     "data": {
      "text/plain": [
       "[110, 110, 110, 110, 110]"
      ]
     },
     "execution_count": 113,
     "metadata": {},
     "output_type": "execute_result"
    }
   ],
   "source": [
    "window = 5\n",
    "\n",
    "ciphers = window * [bytearray()]\n",
    "for i in range(window):\n",
    "    for j in range(i, len(input), window):\n",
    "       ciphers[i].append(input[j])\n",
    "\n",
    "\n",
    "list(map(bestkey, ciphers))"
   ]
  },
  {
   "cell_type": "markdown",
   "id": "df4a3816",
   "metadata": {},
   "source": [
    "Huh.... that didn't really work did it. I see why people end up complaining about this question.\n",
    "\n",
    "\n",
    "Lets try a different approach. Entropy to the rescue again. Lets loop over window sizes. For each window size we'll group together the first byte of each window and compute the entropy of that collection of bytes. When we hit the right window size the entropy should be low. The wrong window sizes should have higher relative entropy!"
   ]
  },
  {
   "cell_type": "code",
   "execution_count": 119,
   "id": "f1db579d",
   "metadata": {},
   "outputs": [],
   "source": [
    "windows = list(range(2, 45))\n",
    "entropies = []\n",
    "\n",
    "for window in windows:\n",
    "    buf = bytearray()\n",
    "    for i in range(0, len(input), window):\n",
    "        buf.append(input[i])\n",
    "    entropies.append(entropy(buf))\n"
   ]
  },
  {
   "cell_type": "code",
   "execution_count": 120,
   "id": "ba549aa0",
   "metadata": {},
   "outputs": [
    {
     "data": {
      "image/png": "[encoded data removed]",
      "text/plain": [
       "<Figure size 432x288 with 1 Axes>"
      ]
     },
     "metadata": {
      "needs_background": "light"
     },
     "output_type": "display_data"
    }
   ],
   "source": [
    "pyplot.plot(windows, entropies)\n",
    "pyplot.grid()"
   ]
  },
  {
   "cell_type": "code",
   "execution_count": 132,
   "id": "359a9beb",
   "metadata": {},
   "outputs": [],
   "source": [
    "window = 29\n",
    "\n",
    "ciphers = []\n",
    "for i in range(window):\n",
    "    buf = bytearray()\n",
    "    for j in range(i, len(input), window):\n",
    "        buf.append(input[j])\n",
    "    ciphers.append(buf)"
   ]
  },
  {
   "cell_type": "code",
   "execution_count": 135,
   "id": "b55070d1",
   "metadata": {},
   "outputs": [
    {
     "data": {
      "text/plain": [
       "bytearray(b'Terminator X: Bring the noise')"
      ]
     },
     "execution_count": 135,
     "metadata": {},
     "output_type": "execute_result"
    }
   ],
   "source": [
    "key = bytearray()\n",
    "for b in map(bestkey, ciphers):\n",
    "    key.append(b)\n",
    "key"
   ]
  },
  {
   "cell_type": "markdown",
   "id": "df43b4e9",
   "metadata": {},
   "source": [
    "Alright, that makes way more sense. This Hamming distance approach is garbage compared to entropy calculations. I think a simple Fourier transform would have caught this too. The key is `Terminator X: Bring the noise`. Lets decrypt this message"
   ]
  },
  {
   "cell_type": "code",
   "execution_count": 140,
   "id": "0d5caa70",
   "metadata": {},
   "outputs": [
    {
     "name": "stdout",
     "output_type": "stream",
     "text": [
      "I'm back and I'm ringin' the bell \n",
      "A rockin' on the mike while the fly girls yell \n",
      "In ecstasy in the back of me \n",
      "Well that's my DJ Deshay cuttin' all them Z's \n",
      "Hittin' hard and the girlies goin' crazy \n",
      "Vanilla's on the mike, man I'm not lazy. \n",
      "\n",
      "I'm lettin' my drug kick in \n",
      "It controls my mouth and I begin \n",
      "To just let it flow, let my concepts go \n",
      "My posse's to the side yellin', Go Vanilla Go! \n",
      "\n",
      "Smooth 'cause that's the way I will be \n",
      "And if you don't give a damn, then \n",
      "Why you starin' at me \n",
      "So get off 'cause I control the stage \n",
      "There's no dissin' allowed \n",
      "I'm in my own phase \n",
      "The girlies sa y they love me and that is ok \n",
      "And I can dance better than any kid n' play \n",
      "\n",
      "Stage 2 -- Yea the one ya' wanna listen to \n",
      "It's off my head so let the beat play through \n",
      "So I can funk it up and make it sound good \n",
      "1-2-3 Yo -- Knock on some wood \n",
      "For good luck, I like my rhymes atrocious \n",
      "Supercalafragilisticexpialidocious \n",
      "I'm an effect and that you can bet \n",
      "I can take a fly girl and make her wet. \n",
      "\n",
      "I'm like Samson -- Samson to Delilah \n",
      "There's no denyin', You can try to hang \n",
      "But you'll keep tryin' to get my style \n",
      "Over and over, practice makes perfect \n",
      "But not if you're a loafer. \n",
      "\n",
      "You'll get nowhere, no place, no time, no girls \n",
      "Soon -- Oh my God, homebody, you probably eat \n",
      "Spaghetti with a spoon! Come on and say it! \n",
      "\n",
      "VIP. Vanilla Ice yep, yep, I'm comin' hard like a rhino \n",
      "Intoxicating so you stagger like a wino \n",
      "So punks stop trying and girl stop cryin' \n",
      "Vanilla Ice is sellin' and you people are buyin' \n",
      "'Cause why the freaks are jockin' like Crazy Glue \n",
      "Movin' and groovin' trying to sing along \n",
      "All through the ghetto groovin' this here song \n",
      "Now you're amazed by the VIP posse. \n",
      "\n",
      "Steppin' so hard like a German Nazi \n",
      "Startled by the bases hittin' ground \n",
      "There's no trippin' on mine, I'm just gettin' down \n",
      "Sparkamatic, I'm hangin' tight like a fanatic \n",
      "You trapped me once and I thought that \n",
      "You might have it \n",
      "So step down and lend me your ear \n",
      "'89 in my time! You, '90 is my year. \n",
      "\n",
      "You're weakenin' fast, YO! and I can tell it \n",
      "Your body's gettin' hot, so, so I can smell it \n",
      "So don't be mad and don't be sad \n",
      "'Cause the lyrics belong to ICE, You can call me Dad \n",
      "You're pitchin' a fit, so step back and endure \n",
      "Let the witch doctor, Ice, do the dance to cure \n",
      "So come up close and don't be square \n",
      "You wanna battle me -- Anytime, anywhere \n",
      "\n",
      "You thought that I was weak, Boy, you're dead wrong \n",
      "So come on, everybody and sing this song \n",
      "\n",
      "Say -- Play that funky music Say, go white boy, go white boy go \n",
      "play that funky music Go white boy, go white boy, go \n",
      "Lay down and boogie and play that funky music till you die. \n",
      "\n",
      "Play that funky music Come on, Come on, let me hear \n",
      "Play that funky music white boy you say it, say it \n",
      "Play that funky music A little louder now \n",
      "Play that funky music, white boy Come on, Come on, Come on \n",
      "Play that funky music \n",
      "\n"
     ]
    }
   ],
   "source": [
    "print(repeating_key_xor(input, key).decode('utf-8'))"
   ]
  },
  {
   "cell_type": "markdown",
   "id": "81295675",
   "metadata": {},
   "source": [
    "\n",
    "🤦 More Vanilla Ice"
   ]
  },
  {
   "cell_type": "markdown",
   "id": "b27e89d5",
   "metadata": {},
   "source": [
    "### Challenge 7\n",
    "\n",
    "Decrypt something in AES-128 ECB mode. The key is \"YELLOW SUBMARINE\"."
   ]
  },
  {
   "cell_type": "code",
   "execution_count": 7,
   "id": "bc3838b8",
   "metadata": {},
   "outputs": [],
   "source": [
    "from cryptography.hazmat.primitives.ciphers import Cipher, algorithms, modes\n",
    "\n",
    "\n",
    "def decrypt_aes128_ecb(ciphertext, key):\n",
    "    cipher = Cipher(algorithms.AES(key), modes.ECB())\n",
    "    decryptor = cipher.decryptor()\n",
    "    return decryptor.update(ciphertext) + decryptor.finalize()"
   ]
  },
  {
   "cell_type": "code",
   "execution_count": 10,
   "id": "d02f5867",
   "metadata": {},
   "outputs": [
    {
     "name": "stdout",
     "output_type": "stream",
     "text": [
      "I'm back and I'm ringin' the bell \n",
      "A rockin' on the mike while the fly girls yell \n",
      "In ecstasy in the back of me \n",
      "Well that's my DJ Deshay cuttin' all them Z's \n",
      "Hittin' hard and the girlies goin' crazy \n",
      "Vanilla's on the mike, man I'm not lazy. \n",
      "\n",
      "I'm lettin' my drug kick in \n",
      "It controls my mouth and I begin \n",
      "To just let it flow, let my concepts go \n",
      "My posse's to the side yellin', Go Vanilla Go! \n",
      "\n",
      "Smooth 'cause that's the way I will be \n",
      "And if you don't give a damn, then \n",
      "Why you starin' at me \n",
      "So get off 'cause I control the stage \n",
      "There's no dissin' allowed \n",
      "I'm in my own phase \n",
      "The girlies sa y they love me and that is ok \n",
      "And I can dance better than any kid n' play \n",
      "\n",
      "Stage 2 -- Yea the one ya' wanna listen to \n",
      "It's off my head so let the beat play through \n",
      "So I can funk it up and make it sound good \n",
      "1-2-3 Yo -- Knock on some wood \n",
      "For good luck, I like my rhymes atrocious \n",
      "Supercalafragilisticexpialidocious \n",
      "I'm an effect and that you can bet \n",
      "I can take a fly girl and make her wet. \n",
      "\n",
      "I'm like Samson -- Samson to Delilah \n",
      "There's no denyin', You can try to hang \n",
      "But you'll keep tryin' to get my style \n",
      "Over and over, practice makes perfect \n",
      "But not if you're a loafer. \n",
      "\n",
      "You'll get nowhere, no place, no time, no girls \n",
      "Soon -- Oh my God, homebody, you probably eat \n",
      "Spaghetti with a spoon! Come on and say it! \n",
      "\n",
      "VIP. Vanilla Ice yep, yep, I'm comin' hard like a rhino \n",
      "Intoxicating so you stagger like a wino \n",
      "So punks stop trying and girl stop cryin' \n",
      "Vanilla Ice is sellin' and you people are buyin' \n",
      "'Cause why the freaks are jockin' like Crazy Glue \n",
      "Movin' and groovin' trying to sing along \n",
      "All through the ghetto groovin' this here song \n",
      "Now you're amazed by the VIP posse. \n",
      "\n",
      "Steppin' so hard like a German Nazi \n",
      "Startled by the bases hittin' ground \n",
      "There's no trippin' on mine, I'm just gettin' down \n",
      "Sparkamatic, I'm hangin' tight like a fanatic \n",
      "You trapped me once and I thought that \n",
      "You might have it \n",
      "So step down and lend me your ear \n",
      "'89 in my time! You, '90 is my year. \n",
      "\n",
      "You're weakenin' fast, YO! and I can tell it \n",
      "Your body's gettin' hot, so, so I can smell it \n",
      "So don't be mad and don't be sad \n",
      "'Cause the lyrics belong to ICE, You can call me Dad \n",
      "You're pitchin' a fit, so step back and endure \n",
      "Let the witch doctor, Ice, do the dance to cure \n",
      "So come up close and don't be square \n",
      "You wanna battle me -- Anytime, anywhere \n",
      "\n",
      "You thought that I was weak, Boy, you're dead wrong \n",
      "So come on, everybody and sing this song \n",
      "\n",
      "Say -- Play that funky music Say, go white boy, go white boy go \n",
      "play that funky music Go white boy, go white boy, go \n",
      "Lay down and boogie and play that funky music till you die. \n",
      "\n",
      "Play that funky music Come on, Come on, let me hear \n",
      "Play that funky music white boy you say it, say it \n",
      "Play that funky music A little louder now \n",
      "Play that funky music, white boy Come on, Come on, Come on \n",
      "Play that funky music \n",
      "\u0004\u0004\u0004\u0004\n"
     ]
    }
   ],
   "source": [
    "import base64\n",
    "\n",
    "key = b'YELLOW SUBMARINE'\n",
    "\n",
    "with open(\"data/challenge7.txt\") as f:\n",
    "    input = base64.b64decode(\"\".join(map(str.strip, f)))\n",
    "\n",
    "print(decrypt_aes128_ecb(input, key).decode('utf-8'))"
   ]
  },
  {
   "cell_type": "markdown",
   "id": "7999c2d7",
   "metadata": {},
   "source": [
    "🤦 Stahp"
   ]
  },
  {
   "cell_type": "markdown",
   "id": "b632b2e4",
   "metadata": {},
   "source": [
    "### Challenge 8 \n",
    "\n",
    "Detect AES ECB mode.\n",
    "\n",
    "The AES cipher is good... so lets just look for any repeated 16 byte blocks"
   ]
  },
  {
   "cell_type": "code",
   "execution_count": 26,
   "id": "5dfc0a9e",
   "metadata": {},
   "outputs": [],
   "source": [
    "def find_repeat(buffer, block_size=16):\n",
    "    s = set()\n",
    "    for i in range(0, len(buffer), block_size):\n",
    "        h = hash(buffer[i:i+block_size])\n",
    "        if h in s:\n",
    "            return True\n",
    "        s.add(h)\n",
    "    return False\n",
    "\n",
    "\n",
    "assert find_repeat(bytes.fromhex('aabbaabb'), 2)\n",
    "assert not find_repeat(bytes.fromhex('abcddddd'), 2)"
   ]
  },
  {
   "cell_type": "code",
   "execution_count": 33,
   "id": "e334f435",
   "metadata": {},
   "outputs": [],
   "source": [
    "with open('data/challenge8.txt') as f:\n",
    "    input = list(map(lambda x: bytes.fromhex(str.strip(x)), f))"
   ]
  },
  {
   "cell_type": "code",
   "execution_count": 36,
   "id": "516d6186",
   "metadata": {},
   "outputs": [
    {
     "data": {
      "text/plain": [
       "b'\\xd8\\x80a\\x97@\\xa8\\xa1\\x9bx@\\xa8\\xa3\\x1c\\x81\\n=\\x08d\\x9a\\xf7\\r\\xc0oO\\xd5\\xd2\\xd6\\x9ctL\\xd2\\x83\\xe2\\xdd\\x05/kd\\x1d\\xbf\\x9d\\x11\\xb04\\x85B\\xbbW\\x08d\\x9a\\xf7\\r\\xc0oO\\xd5\\xd2\\xd6\\x9ctL\\xd2\\x83\\x94u\\xc9\\xdf\\xdb\\xc1\\xd4e\\x97\\x94\\x9d\\x9c~\\x82\\xbfZ\\x08d\\x9a\\xf7\\r\\xc0oO\\xd5\\xd2\\xd6\\x9ctL\\xd2\\x83\\x97\\xa9>\\xab\\x8dj\\xec\\xd5fH\\x91Tx\\x9ak\\x03\\x08d\\x9a\\xf7\\r\\xc0oO\\xd5\\xd2\\xd6\\x9ctL\\xd2\\x83\\xd4\\x03\\x18\\x0c\\x98\\xc8\\xf6\\xdb\\x1f*?\\x9c@@\\xde\\xb0\\xabQ\\xb2\\x993\\xf2\\xc1#\\xc5\\x83\\x86\\xb0o\\xba\\x18j'"
      ]
     },
     "execution_count": 36,
     "metadata": {},
     "output_type": "execute_result"
    }
   ],
   "source": [
    "winner = list(map(find_repeat, input)).index(True)\n",
    "\n",
    "ciphertext = input[winner]\n",
    "ciphertext"
   ]
  },
  {
   "cell_type": "code",
   "execution_count": 43,
   "id": "3dc0f665",
   "metadata": {},
   "outputs": [
    {
     "data": {
      "text/plain": [
       "b'M\\x1d\\x99\\x1c\\rW\\xf5\\xd4\\xd9\\x03:\\xbfX\\x15\\xdd\\xbd\\xce\\xb8\\xd6\\xf9\\xc1\\xc4\\x1f\\x1e\\xbb\\x951\\x8d\\xa9\\xdf\\x8b+\\xc2*\\xc7\\xee\\xd1\\xc6\\xc0\\x7f\\xa3(\\x9b@F\\x05\\xa98\\xce\\xb8\\xd6\\xf9\\xc1\\xc4\\x1f\\x1e\\xbb\\x951\\x8d\\xa9\\xdf\\x8b+Ln\\xc6Yk\\xdbh~\\x1d\\xe5\\xf0V\\x84\\xd7\\xd3\\x84\\xce\\xb8\\xd6\\xf9\\xc1\\xc4\\x1f\\x1e\\xbb\\x951\\x8d\\xa9\\xdf\\x8b+s\\xe3\\xd0\\xf8\\xa3\\x19;\\xa85\\xb7.J\\x03I\\xa2^\\xce\\xb8\\xd6\\xf9\\xc1\\xc4\\x1f\\x1e\\xbb\\x951\\x8d\\xa9\\xdf\\x8b+\\xe5%02]D\\xac\\xb8\\xe2\\xe0\\xc48\\x0f\\xb6Rus\\xa4<9\\xb1\\x81\\xe2\\xdcg\\x8a\\xa2%\\x17\\xafCd'"
      ]
     },
     "execution_count": 43,
     "metadata": {},
     "output_type": "execute_result"
    }
   ],
   "source": [
    "key = b'YELLOW SUBMARINE'\n",
    "\n",
    "decrypt_aes128_ecb(ciphertext, key)"
   ]
  },
  {
   "cell_type": "markdown",
   "id": "9c73fb8d",
   "metadata": {},
   "source": [
    "Oh well, not the right key, but definitely a repeated block so that has to be the one..."
   ]
  }
 ],
 "metadata": {
  "kernelspec": {
   "display_name": "Python 3",
   "language": "python",
   "name": "python3"
  },
  "language_info": {
   "codemirror_mode": {
    "name": "ipython",
    "version": 3
   },
   "file_extension": ".py",
   "mimetype": "text/x-python",
   "name": "python",
   "nbconvert_exporter": "python",
   "pygments_lexer": "ipython3",
   "version": "3.9.4"
  }
 },
 "nbformat": 4,
 "nbformat_minor": 5
}
